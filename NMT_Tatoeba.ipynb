{
  "nbformat": 4,
  "nbformat_minor": 0,
  "metadata": {
    "colab": {
      "name": "NMT_Tatoeba.ipynb",
      "provenance": [],
      "collapsed_sections": []
    },
    "kernelspec": {
      "name": "python3",
      "display_name": "Python 3"
    },
    "language_info": {
      "name": "python"
    },
    "gpuClass": "standard",
    "accelerator": "GPU",
    "widgets": {
      "application/vnd.jupyter.widget-state+json": {
        "c561475f5ca341f69d4e8118998ead14": {
          "model_module": "@jupyter-widgets/controls",
          "model_name": "HBoxModel",
          "model_module_version": "1.5.0",
          "state": {
            "_dom_classes": [],
            "_model_module": "@jupyter-widgets/controls",
            "_model_module_version": "1.5.0",
            "_model_name": "HBoxModel",
            "_view_count": null,
            "_view_module": "@jupyter-widgets/controls",
            "_view_module_version": "1.5.0",
            "_view_name": "HBoxView",
            "box_style": "",
            "children": [
              "IPY_MODEL_056d45ab48874b35a3e3bdc7c769bf15",
              "IPY_MODEL_75ae8b2cfe244716bf7da55bf7504872",
              "IPY_MODEL_40cc45ccfffc49b18972c10934e56655"
            ],
            "layout": "IPY_MODEL_5da97c739fb149afbf7353245791bff9"
          }
        },
        "056d45ab48874b35a3e3bdc7c769bf15": {
          "model_module": "@jupyter-widgets/controls",
          "model_name": "HTMLModel",
          "model_module_version": "1.5.0",
          "state": {
            "_dom_classes": [],
            "_model_module": "@jupyter-widgets/controls",
            "_model_module_version": "1.5.0",
            "_model_name": "HTMLModel",
            "_view_count": null,
            "_view_module": "@jupyter-widgets/controls",
            "_view_module_version": "1.5.0",
            "_view_name": "HTMLView",
            "description": "",
            "description_tooltip": null,
            "layout": "IPY_MODEL_ec97a44893ce47e3abf33f56fa699493",
            "placeholder": "​",
            "style": "IPY_MODEL_d96cfa47ddd34b1dac5edb2be497dc38",
            "value": "100%"
          }
        },
        "75ae8b2cfe244716bf7da55bf7504872": {
          "model_module": "@jupyter-widgets/controls",
          "model_name": "FloatProgressModel",
          "model_module_version": "1.5.0",
          "state": {
            "_dom_classes": [],
            "_model_module": "@jupyter-widgets/controls",
            "_model_module_version": "1.5.0",
            "_model_name": "FloatProgressModel",
            "_view_count": null,
            "_view_module": "@jupyter-widgets/controls",
            "_view_module_version": "1.5.0",
            "_view_name": "ProgressView",
            "bar_style": "success",
            "description": "",
            "description_tooltip": null,
            "layout": "IPY_MODEL_a4a4315e857e4d85bdb49242e86e6ffe",
            "max": 1,
            "min": 0,
            "orientation": "horizontal",
            "style": "IPY_MODEL_c7c1560b6d574db3ae28729d1f3fb7cd",
            "value": 1
          }
        },
        "40cc45ccfffc49b18972c10934e56655": {
          "model_module": "@jupyter-widgets/controls",
          "model_name": "HTMLModel",
          "model_module_version": "1.5.0",
          "state": {
            "_dom_classes": [],
            "_model_module": "@jupyter-widgets/controls",
            "_model_module_version": "1.5.0",
            "_model_name": "HTMLModel",
            "_view_count": null,
            "_view_module": "@jupyter-widgets/controls",
            "_view_module_version": "1.5.0",
            "_view_name": "HTMLView",
            "description": "",
            "description_tooltip": null,
            "layout": "IPY_MODEL_0a7918117b3744a3af9129756ccdc447",
            "placeholder": "​",
            "style": "IPY_MODEL_f4eac8fa96ea47c28d3362315e19fa48",
            "value": " 1/1 [00:00&lt;00:00,  8.56it/s]"
          }
        },
        "5da97c739fb149afbf7353245791bff9": {
          "model_module": "@jupyter-widgets/base",
          "model_name": "LayoutModel",
          "model_module_version": "1.2.0",
          "state": {
            "_model_module": "@jupyter-widgets/base",
            "_model_module_version": "1.2.0",
            "_model_name": "LayoutModel",
            "_view_count": null,
            "_view_module": "@jupyter-widgets/base",
            "_view_module_version": "1.2.0",
            "_view_name": "LayoutView",
            "align_content": null,
            "align_items": null,
            "align_self": null,
            "border": null,
            "bottom": null,
            "display": null,
            "flex": null,
            "flex_flow": null,
            "grid_area": null,
            "grid_auto_columns": null,
            "grid_auto_flow": null,
            "grid_auto_rows": null,
            "grid_column": null,
            "grid_gap": null,
            "grid_row": null,
            "grid_template_areas": null,
            "grid_template_columns": null,
            "grid_template_rows": null,
            "height": null,
            "justify_content": null,
            "justify_items": null,
            "left": null,
            "margin": null,
            "max_height": null,
            "max_width": null,
            "min_height": null,
            "min_width": null,
            "object_fit": null,
            "object_position": null,
            "order": null,
            "overflow": null,
            "overflow_x": null,
            "overflow_y": null,
            "padding": null,
            "right": null,
            "top": null,
            "visibility": null,
            "width": null
          }
        },
        "ec97a44893ce47e3abf33f56fa699493": {
          "model_module": "@jupyter-widgets/base",
          "model_name": "LayoutModel",
          "model_module_version": "1.2.0",
          "state": {
            "_model_module": "@jupyter-widgets/base",
            "_model_module_version": "1.2.0",
            "_model_name": "LayoutModel",
            "_view_count": null,
            "_view_module": "@jupyter-widgets/base",
            "_view_module_version": "1.2.0",
            "_view_name": "LayoutView",
            "align_content": null,
            "align_items": null,
            "align_self": null,
            "border": null,
            "bottom": null,
            "display": null,
            "flex": null,
            "flex_flow": null,
            "grid_area": null,
            "grid_auto_columns": null,
            "grid_auto_flow": null,
            "grid_auto_rows": null,
            "grid_column": null,
            "grid_gap": null,
            "grid_row": null,
            "grid_template_areas": null,
            "grid_template_columns": null,
            "grid_template_rows": null,
            "height": null,
            "justify_content": null,
            "justify_items": null,
            "left": null,
            "margin": null,
            "max_height": null,
            "max_width": null,
            "min_height": null,
            "min_width": null,
            "object_fit": null,
            "object_position": null,
            "order": null,
            "overflow": null,
            "overflow_x": null,
            "overflow_y": null,
            "padding": null,
            "right": null,
            "top": null,
            "visibility": null,
            "width": null
          }
        },
        "d96cfa47ddd34b1dac5edb2be497dc38": {
          "model_module": "@jupyter-widgets/controls",
          "model_name": "DescriptionStyleModel",
          "model_module_version": "1.5.0",
          "state": {
            "_model_module": "@jupyter-widgets/controls",
            "_model_module_version": "1.5.0",
            "_model_name": "DescriptionStyleModel",
            "_view_count": null,
            "_view_module": "@jupyter-widgets/base",
            "_view_module_version": "1.2.0",
            "_view_name": "StyleView",
            "description_width": ""
          }
        },
        "a4a4315e857e4d85bdb49242e86e6ffe": {
          "model_module": "@jupyter-widgets/base",
          "model_name": "LayoutModel",
          "model_module_version": "1.2.0",
          "state": {
            "_model_module": "@jupyter-widgets/base",
            "_model_module_version": "1.2.0",
            "_model_name": "LayoutModel",
            "_view_count": null,
            "_view_module": "@jupyter-widgets/base",
            "_view_module_version": "1.2.0",
            "_view_name": "LayoutView",
            "align_content": null,
            "align_items": null,
            "align_self": null,
            "border": null,
            "bottom": null,
            "display": null,
            "flex": null,
            "flex_flow": null,
            "grid_area": null,
            "grid_auto_columns": null,
            "grid_auto_flow": null,
            "grid_auto_rows": null,
            "grid_column": null,
            "grid_gap": null,
            "grid_row": null,
            "grid_template_areas": null,
            "grid_template_columns": null,
            "grid_template_rows": null,
            "height": null,
            "justify_content": null,
            "justify_items": null,
            "left": null,
            "margin": null,
            "max_height": null,
            "max_width": null,
            "min_height": null,
            "min_width": null,
            "object_fit": null,
            "object_position": null,
            "order": null,
            "overflow": null,
            "overflow_x": null,
            "overflow_y": null,
            "padding": null,
            "right": null,
            "top": null,
            "visibility": null,
            "width": null
          }
        },
        "c7c1560b6d574db3ae28729d1f3fb7cd": {
          "model_module": "@jupyter-widgets/controls",
          "model_name": "ProgressStyleModel",
          "model_module_version": "1.5.0",
          "state": {
            "_model_module": "@jupyter-widgets/controls",
            "_model_module_version": "1.5.0",
            "_model_name": "ProgressStyleModel",
            "_view_count": null,
            "_view_module": "@jupyter-widgets/base",
            "_view_module_version": "1.2.0",
            "_view_name": "StyleView",
            "bar_color": null,
            "description_width": ""
          }
        },
        "0a7918117b3744a3af9129756ccdc447": {
          "model_module": "@jupyter-widgets/base",
          "model_name": "LayoutModel",
          "model_module_version": "1.2.0",
          "state": {
            "_model_module": "@jupyter-widgets/base",
            "_model_module_version": "1.2.0",
            "_model_name": "LayoutModel",
            "_view_count": null,
            "_view_module": "@jupyter-widgets/base",
            "_view_module_version": "1.2.0",
            "_view_name": "LayoutView",
            "align_content": null,
            "align_items": null,
            "align_self": null,
            "border": null,
            "bottom": null,
            "display": null,
            "flex": null,
            "flex_flow": null,
            "grid_area": null,
            "grid_auto_columns": null,
            "grid_auto_flow": null,
            "grid_auto_rows": null,
            "grid_column": null,
            "grid_gap": null,
            "grid_row": null,
            "grid_template_areas": null,
            "grid_template_columns": null,
            "grid_template_rows": null,
            "height": null,
            "justify_content": null,
            "justify_items": null,
            "left": null,
            "margin": null,
            "max_height": null,
            "max_width": null,
            "min_height": null,
            "min_width": null,
            "object_fit": null,
            "object_position": null,
            "order": null,
            "overflow": null,
            "overflow_x": null,
            "overflow_y": null,
            "padding": null,
            "right": null,
            "top": null,
            "visibility": null,
            "width": null
          }
        },
        "f4eac8fa96ea47c28d3362315e19fa48": {
          "model_module": "@jupyter-widgets/controls",
          "model_name": "DescriptionStyleModel",
          "model_module_version": "1.5.0",
          "state": {
            "_model_module": "@jupyter-widgets/controls",
            "_model_module_version": "1.5.0",
            "_model_name": "DescriptionStyleModel",
            "_view_count": null,
            "_view_module": "@jupyter-widgets/base",
            "_view_module_version": "1.2.0",
            "_view_name": "StyleView",
            "description_width": ""
          }
        }
      }
    }
  },
  "cells": [
    {
      "cell_type": "code",
      "source": [
        "from google.colab import drive\n",
        "drive.mount('/content/drive')"
      ],
      "metadata": {
        "colab": {
          "base_uri": "https://localhost:8080/"
        },
        "id": "O8lIba5-SdO8",
        "outputId": "d64961e0-8ec3-4d07-de91-c594768bfdc9"
      },
      "execution_count": 1,
      "outputs": [
        {
          "output_type": "stream",
          "name": "stdout",
          "text": [
            "Drive already mounted at /content/drive; to attempt to forcibly remount, call drive.mount(\"/content/drive\", force_remount=True).\n"
          ]
        }
      ]
    },
    {
      "cell_type": "code",
      "source": [
        "cd '/content/drive/MyDrive/Data Science Project/Neural-machine-translation/Tatoeba'"
      ],
      "metadata": {
        "colab": {
          "base_uri": "https://localhost:8080/"
        },
        "id": "6dRQQndVIGqy",
        "outputId": "a7ce4a07-5d91-4927-e3b3-d0b33320f7c9"
      },
      "execution_count": 2,
      "outputs": [
        {
          "output_type": "stream",
          "name": "stdout",
          "text": [
            "/content/drive/MyDrive/Data Science Project/Neural-machine-translation/Tatoeba\n"
          ]
        }
      ]
    },
    {
      "cell_type": "code",
      "source": [
        "import os\n",
        "source_language = \"en\"\n",
        "target_language = \"yo\" \n",
        "lc = False  \n",
        "seed = 42  \n",
        "tag = \"baseline\" \n",
        "\n",
        "os.environ[\"src\"] = source_language # Sets them in bash as well, since we often use bash scripts\n",
        "os.environ[\"tgt\"] = target_language\n",
        "os.environ[\"tag\"] = tag\n",
        "\n",
        "# This will save it to a folder in our gdrive instead!\n",
        "!mkdir -p \"/content/drive/MyDrive/Data Science Project/Neural-machine-translation/Tatoeba/$src-$tgt-$tag\"\n",
        "os.environ[\"gdrive_path\"] = \"/content/drive/MyDrive/Data Science Project/Neural-machine-translation/Tatoeba/%s-%s-%s\" % (source_language, target_language, tag)"
      ],
      "metadata": {
        "id": "ufjXAb4sSdLn"
      },
      "execution_count": 3,
      "outputs": []
    },
    {
      "cell_type": "code",
      "source": [
        "!echo $gdrive_path"
      ],
      "metadata": {
        "colab": {
          "base_uri": "https://localhost:8080/"
        },
        "id": "GYpppaAHSdKA",
        "outputId": "7bcbb98d-188f-449c-be0f-2d8622aca4a3"
      },
      "execution_count": 4,
      "outputs": [
        {
          "output_type": "stream",
          "name": "stdout",
          "text": [
            "/content/drive/MyDrive/Data Science Project/Neural-machine-translation/Tatoeba/en-yo-baseline\n"
          ]
        }
      ]
    },
    {
      "cell_type": "code",
      "source": [
        "# # Install opus-tools\n",
        "# ! pip install opustools-pkg"
      ],
      "metadata": {
        "id": "TGPOIaNmSdHz"
      },
      "execution_count": 5,
      "outputs": []
    },
    {
      "cell_type": "code",
      "source": [
        "# # Downloading our corpus\n",
        "# ! opus_read -d Tatoeba -s $src -t $tgt -wm moses -w tatoeba.$src tatoeba.$tgt -q\n",
        "\n",
        "# # extract the corpus file\n",
        "# ! gunzip Tatoeba_latest_xml_$src-$tgt.xml.gz\n",
        "\n",
        "# # Downloading our corpus\n",
        "# !opus_read -d GlobalVoices -s $src -t $tgt -wm moses -w globalvoices.$src globalvoices.$tgt -q\n",
        "\n",
        "# # extract the corpus file\n",
        "# !gunzip GlobalVoices_latest_xml_$src-$tgt.xml.gz"
      ],
      "metadata": {
        "id": "OMxX07NgSdFg"
      },
      "execution_count": 6,
      "outputs": []
    },
    {
      "cell_type": "code",
      "source": [
        "# # Download the global test set.\n",
        "# ! wget https://raw.githubusercontent.com/juliakreutzer/masakhane/master/jw300_utils/test/test.en-any.en\n",
        "  \n",
        "# # And the specific test set for this language pair.\n",
        "# os.environ[\"trg\"] = target_language \n",
        "# os.environ[\"src\"] = source_language \n",
        "\n",
        "# ! wget https://raw.githubusercontent.com/juliakreutzer/masakhane/master/jw300_utils/test/test.en-$trg.en \n",
        "# ! mv test.en-$trg.en test.en\n",
        "# ! wget https://raw.githubusercontent.com/juliakreutzer/masakhane/master/jw300_utils/test/test.en-$trg.$trg \n",
        "# ! mv test.en-$trg.$trg test.$trg"
      ],
      "metadata": {
        "id": "s_nFb6RkSdAt"
      },
      "execution_count": 7,
      "outputs": []
    },
    {
      "cell_type": "code",
      "source": [
        "# Read the test data to filter from train and dev splits.\n",
        "# Store english portion in set for quick filtering checks.\n",
        "en_test_sents = set()\n",
        "filter_test_sents = \"test.en-any.en\"\n",
        "j = 0\n",
        "with open(filter_test_sents) as f:\n",
        "  for line in f:\n",
        "    en_test_sents.add(line.strip())\n",
        "    j += 1\n",
        "print('Loaded {} global test sentences to filter from the training/dev data.'.format(j))"
      ],
      "metadata": {
        "colab": {
          "base_uri": "https://localhost:8080/"
        },
        "id": "F1_0u7H_ScNn",
        "outputId": "27c680c5-ecb9-4220-cbe3-218829b2d09b"
      },
      "execution_count": 8,
      "outputs": [
        {
          "output_type": "stream",
          "name": "stdout",
          "text": [
            "Loaded 3571 global test sentences to filter from the training/dev data.\n"
          ]
        }
      ]
    },
    {
      "cell_type": "code",
      "execution_count": 9,
      "metadata": {
        "colab": {
          "base_uri": "https://localhost:8080/",
          "height": 161
        },
        "id": "EuxBigjbSW-L",
        "outputId": "4bd68670-de3f-441f-e388-8434dfd2c7e2"
      },
      "outputs": [
        {
          "output_type": "stream",
          "name": "stdout",
          "text": [
            "Loaded data and skipped 0/132 lines since contained in test set.\n"
          ]
        },
        {
          "output_type": "execute_result",
          "data": {
            "text/plain": [
              "                                     source_sentence  \\\n",
              "0  An all-female flight crew makes history in Moz...   \n",
              "1  Mozambique 's first all-female crew | Photo us...   \n",
              "2  It is a historic day : that is how many Mozamb...   \n",
              "\n",
              "                                     target_sentence  \n",
              "0  Òṣìṣẹ ́ inú ọkọ ̀ òfuurufú olóbìrin nìkan wọ ì...  \n",
              "1  Ikọ ̀ awakọ ̀ òfuurufú olóbìrin àkọ ́ kọ ́ irú...  \n",
              "2  Ọjọ ́ ìtàn ni ọjọ ́ yìí : ojú yìí ni ogunlọ ́ ...  "
            ],
            "text/html": [
              "\n",
              "  <div id=\"df-01d90fc3-aaf1-4eb6-8328-cd1c9bb0ca09\">\n",
              "    <div class=\"colab-df-container\">\n",
              "      <div>\n",
              "<style scoped>\n",
              "    .dataframe tbody tr th:only-of-type {\n",
              "        vertical-align: middle;\n",
              "    }\n",
              "\n",
              "    .dataframe tbody tr th {\n",
              "        vertical-align: top;\n",
              "    }\n",
              "\n",
              "    .dataframe thead th {\n",
              "        text-align: right;\n",
              "    }\n",
              "</style>\n",
              "<table border=\"1\" class=\"dataframe\">\n",
              "  <thead>\n",
              "    <tr style=\"text-align: right;\">\n",
              "      <th></th>\n",
              "      <th>source_sentence</th>\n",
              "      <th>target_sentence</th>\n",
              "    </tr>\n",
              "  </thead>\n",
              "  <tbody>\n",
              "    <tr>\n",
              "      <th>0</th>\n",
              "      <td>An all-female flight crew makes history in Moz...</td>\n",
              "      <td>Òṣìṣẹ ́ inú ọkọ ̀ òfuurufú olóbìrin nìkan wọ ì...</td>\n",
              "    </tr>\n",
              "    <tr>\n",
              "      <th>1</th>\n",
              "      <td>Mozambique 's first all-female crew | Photo us...</td>\n",
              "      <td>Ikọ ̀ awakọ ̀ òfuurufú olóbìrin àkọ ́ kọ ́ irú...</td>\n",
              "    </tr>\n",
              "    <tr>\n",
              "      <th>2</th>\n",
              "      <td>It is a historic day : that is how many Mozamb...</td>\n",
              "      <td>Ọjọ ́ ìtàn ni ọjọ ́ yìí : ojú yìí ni ogunlọ ́ ...</td>\n",
              "    </tr>\n",
              "  </tbody>\n",
              "</table>\n",
              "</div>\n",
              "      <button class=\"colab-df-convert\" onclick=\"convertToInteractive('df-01d90fc3-aaf1-4eb6-8328-cd1c9bb0ca09')\"\n",
              "              title=\"Convert this dataframe to an interactive table.\"\n",
              "              style=\"display:none;\">\n",
              "        \n",
              "  <svg xmlns=\"http://www.w3.org/2000/svg\" height=\"24px\"viewBox=\"0 0 24 24\"\n",
              "       width=\"24px\">\n",
              "    <path d=\"M0 0h24v24H0V0z\" fill=\"none\"/>\n",
              "    <path d=\"M18.56 5.44l.94 2.06.94-2.06 2.06-.94-2.06-.94-.94-2.06-.94 2.06-2.06.94zm-11 1L8.5 8.5l.94-2.06 2.06-.94-2.06-.94L8.5 2.5l-.94 2.06-2.06.94zm10 10l.94 2.06.94-2.06 2.06-.94-2.06-.94-.94-2.06-.94 2.06-2.06.94z\"/><path d=\"M17.41 7.96l-1.37-1.37c-.4-.4-.92-.59-1.43-.59-.52 0-1.04.2-1.43.59L10.3 9.45l-7.72 7.72c-.78.78-.78 2.05 0 2.83L4 21.41c.39.39.9.59 1.41.59.51 0 1.02-.2 1.41-.59l7.78-7.78 2.81-2.81c.8-.78.8-2.07 0-2.86zM5.41 20L4 18.59l7.72-7.72 1.47 1.35L5.41 20z\"/>\n",
              "  </svg>\n",
              "      </button>\n",
              "      \n",
              "  <style>\n",
              "    .colab-df-container {\n",
              "      display:flex;\n",
              "      flex-wrap:wrap;\n",
              "      gap: 12px;\n",
              "    }\n",
              "\n",
              "    .colab-df-convert {\n",
              "      background-color: #E8F0FE;\n",
              "      border: none;\n",
              "      border-radius: 50%;\n",
              "      cursor: pointer;\n",
              "      display: none;\n",
              "      fill: #1967D2;\n",
              "      height: 32px;\n",
              "      padding: 0 0 0 0;\n",
              "      width: 32px;\n",
              "    }\n",
              "\n",
              "    .colab-df-convert:hover {\n",
              "      background-color: #E2EBFA;\n",
              "      box-shadow: 0px 1px 2px rgba(60, 64, 67, 0.3), 0px 1px 3px 1px rgba(60, 64, 67, 0.15);\n",
              "      fill: #174EA6;\n",
              "    }\n",
              "\n",
              "    [theme=dark] .colab-df-convert {\n",
              "      background-color: #3B4455;\n",
              "      fill: #D2E3FC;\n",
              "    }\n",
              "\n",
              "    [theme=dark] .colab-df-convert:hover {\n",
              "      background-color: #434B5C;\n",
              "      box-shadow: 0px 1px 3px 1px rgba(0, 0, 0, 0.15);\n",
              "      filter: drop-shadow(0px 1px 2px rgba(0, 0, 0, 0.3));\n",
              "      fill: #FFFFFF;\n",
              "    }\n",
              "  </style>\n",
              "\n",
              "      <script>\n",
              "        const buttonEl =\n",
              "          document.querySelector('#df-01d90fc3-aaf1-4eb6-8328-cd1c9bb0ca09 button.colab-df-convert');\n",
              "        buttonEl.style.display =\n",
              "          google.colab.kernel.accessAllowed ? 'block' : 'none';\n",
              "\n",
              "        async function convertToInteractive(key) {\n",
              "          const element = document.querySelector('#df-01d90fc3-aaf1-4eb6-8328-cd1c9bb0ca09');\n",
              "          const dataTable =\n",
              "            await google.colab.kernel.invokeFunction('convertToInteractive',\n",
              "                                                     [key], {});\n",
              "          if (!dataTable) return;\n",
              "\n",
              "          const docLinkHtml = 'Like what you see? Visit the ' +\n",
              "            '<a target=\"_blank\" href=https://colab.research.google.com/notebooks/data_table.ipynb>data table notebook</a>'\n",
              "            + ' to learn more about interactive tables.';\n",
              "          element.innerHTML = '';\n",
              "          dataTable['output_type'] = 'display_data';\n",
              "          await google.colab.output.renderOutput(dataTable, element);\n",
              "          const docLink = document.createElement('div');\n",
              "          docLink.innerHTML = docLinkHtml;\n",
              "          element.appendChild(docLink);\n",
              "        }\n",
              "      </script>\n",
              "    </div>\n",
              "  </div>\n",
              "  "
            ]
          },
          "metadata": {},
          "execution_count": 9
        }
      ],
      "source": [
        "import pandas as pd\n",
        "\n",
        "# TMX file to dataframe\n",
        "source_file = 'globalvoices.' + source_language\n",
        "target_file = 'globalvoices.' + target_language\n",
        "\n",
        "source = []\n",
        "target = []\n",
        "skip_lines = []  # Collect the line numbers of the source portion to skip the same lines for the target portion.\n",
        "with open(source_file) as f:\n",
        "    for i, line in enumerate(f):\n",
        "        # Skip sentences that are contained in the test set.\n",
        "        if line.strip() not in en_test_sents:\n",
        "            source.append(line.strip())\n",
        "        else:\n",
        "            skip_lines.append(i)             \n",
        "with open(target_file) as f:\n",
        "    for j, line in enumerate(f):\n",
        "        # Only add to corpus if corresponding source was not skipped.\n",
        "        if j not in skip_lines:\n",
        "            target.append(line.strip())\n",
        "    \n",
        "print('Loaded data and skipped {}/{} lines since contained in test set.'.format(len(skip_lines), i))\n",
        "    \n",
        "df = pd.DataFrame(zip(source, target), columns=['source_sentence', 'target_sentence'])\n",
        "df.head(3)"
      ]
    },
    {
      "cell_type": "markdown",
      "source": [
        "### Pre-processing and export"
      ],
      "metadata": {
        "id": "db6uPetCrxi6"
      }
    },
    {
      "cell_type": "code",
      "source": [
        "# drop duplicate translations\n",
        "df_pp = df.drop_duplicates()\n",
        "\n",
        "# Shuffle the data to remove bias in dev set selection.\n",
        "df_pp = df_pp.sample(frac=1, random_state=seed).reset_index(drop=True)"
      ],
      "metadata": {
        "id": "SGPh80m1qdT-"
      },
      "execution_count": 10,
      "outputs": []
    },
    {
      "cell_type": "code",
      "source": [
        "# !pip install fuzzywuzzy\n",
        "# !pip install python-Levenshtein"
      ],
      "metadata": {
        "id": "YQxyrn87qdRe"
      },
      "execution_count": 11,
      "outputs": []
    },
    {
      "cell_type": "code",
      "source": [
        "import time\n",
        "from fuzzywuzzy import process\n",
        "import numpy as np\n",
        "from os import cpu_count\n",
        "from functools import partial\n",
        "from multiprocessing import Pool\n",
        "\n",
        "# reset the index of the training set after previous filtering\n",
        "df_pp.reset_index(drop=False, inplace=True)\n",
        "\n",
        "# Filtering function. Adjust pad to narrow down the candidate matches to within a certain length of characters of the given sample.\n",
        "def fuzzfilter(sample, candidates, pad):\n",
        "  candidates = [x for x in candidates if len(x) <= len(sample)+pad and len(x) >= len(sample)-pad] \n",
        "  if len(candidates) > 0:\n",
        "    return process.extractOne(sample, candidates)[1]\n",
        "  else:\n",
        "    return np.nan"
      ],
      "metadata": {
        "id": "rbxdeHpFqdOw"
      },
      "execution_count": 12,
      "outputs": []
    },
    {
      "cell_type": "code",
      "source": [
        "start_time = time.time()\n",
        "\n",
        "with Pool(cpu_count()-1) as pool:\n",
        "    scores = pool.map(partial(fuzzfilter, candidates=list(en_test_sents), pad=5), df_pp['source_sentence'])\n",
        "hours, rem = divmod(time.time() - start_time, 3600)\n",
        "minutes, seconds = divmod(rem, 60)\n",
        "print(\"done in {}h:{}min:{}seconds\".format(hours, minutes, seconds))\n",
        "\n",
        "# Filter out \"almost overlapping samples\"\n",
        "df_pp = df_pp.assign(scores=scores)\n",
        "df_pp = df_pp[df_pp['scores'] < 95]"
      ],
      "metadata": {
        "colab": {
          "base_uri": "https://localhost:8080/"
        },
        "id": "_KDrqQNuwsiK",
        "outputId": "7eee43d7-c355-465d-d53d-38e4c513c55e"
      },
      "execution_count": 13,
      "outputs": [
        {
          "output_type": "stream",
          "name": "stdout",
          "text": [
            "done in 0.0h:0.0min:2.326791286468506seconds\n"
          ]
        }
      ]
    },
    {
      "cell_type": "code",
      "source": [
        "# We use 30 dev test and the given test set.\n",
        "import csv\n",
        "\n",
        "# Do the split between dev/train and create parallel corpora\n",
        "num_dev_patterns = 30\n",
        "\n",
        "# Optional: lower case the corpora - this will make it easier to generalize, but without proper casing.\n",
        "if lc:  # Julia: making lowercasing optional\n",
        "    df_pp[\"source_sentence\"] = df_pp[\"source_sentence\"].str.lower()\n",
        "    df_pp[\"target_sentence\"] = df_pp[\"target_sentence\"].str.lower()\n",
        "\n",
        "# Julia: test sets are already generated\n",
        "dev = df_pp.tail(num_dev_patterns) # Herman: Error in original\n",
        "stripped = df_pp.drop(df_pp.tail(num_dev_patterns).index)\n",
        "\n",
        "with open(\"train.\"+source_language, \"w\") as src_file, open(\"train.\"+target_language, \"w\") as trg_file:\n",
        "  for index, row in stripped.iterrows():\n",
        "    src_file.write(row[\"source_sentence\"]+\"\\n\")\n",
        "    trg_file.write(row[\"target_sentence\"]+\"\\n\")\n",
        "    \n",
        "with open(\"dev.\"+source_language, \"w\") as src_file, open(\"dev.\"+target_language, \"w\") as trg_file:\n",
        "  for index, row in dev.iterrows():\n",
        "    src_file.write(row[\"source_sentence\"]+\"\\n\")\n",
        "    trg_file.write(row[\"target_sentence\"]+\"\\n\")\n",
        "\n",
        "stripped[[\"source_sentence\"]].to_csv(\"train.\"+source_language, header=False, index=False)  # Herman: Added `header=False` everywhere\n",
        "stripped[[\"target_sentence\"]].to_csv(\"train.\"+target_language, header=False, index=False)  # Julia: Problematic handling of quotation marks.\n",
        "\n",
        "dev[[\"source_sentence\"]].to_csv(\"dev.\"+source_language, header=False, index=False)\n",
        "dev[[\"target_sentence\"]].to_csv(\"dev.\"+target_language, header=False, index=False)\n",
        "\n",
        "# Doublecheck the format below. There should be no extra quotation marks or weird characters.\n",
        "! head train.*\n",
        "! head dev.*"
      ],
      "metadata": {
        "colab": {
          "base_uri": "https://localhost:8080/"
        },
        "id": "SI7B1_Tmwseh",
        "outputId": "1d0aa4e6-50f1-4d28-88e6-8ba767009e84"
      },
      "execution_count": 14,
      "outputs": [
        {
          "output_type": "stream",
          "name": "stdout",
          "text": [
            "==> train.en <==\n",
            "\"The festivals can boost consumption , what ’ s wrong with that ?\"\n",
            "Child : I will not celebrate Western festivals Christmas is not a Chinese people ’ s festival .\n",
            "I am Chinese and I don ’ t celebrate Western festivals .\n",
            "\"The commentary references the history of the Eight-Nation Alliance , a coalition formed in response to the Boxer Rebellion in China between 1899 and 1901 when Chinese peasants rose up against foreign , colonial , Christian rule and culture .\"\n",
            "\"In their panel session , they credited Global Voices ' campaign for keeping them alive .\"\n",
            "The company has forbidden the celebration of Western festivals .\n",
            "\"Yet , the Zone9 bloggers redefined patriotism with both their words and actions .\"\n",
            "A Weibo user expressed frustration :\n",
            "\"If people of a nation are too enthusiastic in celebrating other nations ’ festivals , it indicates that the country is suffered from extremely serious cultural invasion .\"\n",
            "\"In aviation there are few women , very few , this is not only here but in the whole world .\"\n",
            "\n",
            "==> train.yo <==\n",
            "\"Àwọn àjọ ̀ dún wọ ̀ nyí lè mú ìkóúnjẹjẹ gbòòrò , kí ni ó burú nínú ìyẹn ?\"\n",
            "Ọmọ : Èmi ò ní ṣe àjọyọ ̀ àjọ ̀ dún Òyìnbó kì í ṣe àjọ ̀ dún ìlúu China .\n",
            "Ọmọ China ni mí n kò sì kí ń ṣe àjọyọ ̀ Òyìnbó .\n",
            "\"Awuyewuye náà tọ ́ ka sí ìṣẹ ̀ lẹ ̀ -àtẹ ̀ yìnwá Eight-Nation Alliance , ẹgbẹ ́ ìṣọ ̀ kan tí a dá ní ìdáhùnsí Tẹ ̀ mbẹ ̀ lẹ ̀ kun Akànṣẹ ́ ní China láàárín-in ọdún 1899 àti 1901 nígbàtí àwọn àgbẹ ̀ rokoroko fi ẹ ̀ hónú hàn sí ìjọba amúnisìn , ètò ìṣèlú ní ìlànà Krìstẹ ́ nì àti àṣà .\"\n",
            "\"Ní ètò ìtàkùrọ ̀ sọ wọn , wọ ́ n gbé orí yìn fún ìpolongo Ohùn Àgbáyé tí ó ṣe iṣẹ ́ ribiribi tí ó mú àwọn wà láyé .\"\n",
            "Ilé-iṣẹ ́ ti sọ ayẹyẹ àjọyọ ̀ àjọ ̀ dún Òyìnbó di èèwọ ̀ .\n",
            "\"Síbẹ ̀ , akọbúlọ ́ ọ ̀ gù Zone9 ṣe àtúnlò ìfẹ ́ -ìlú-ẹni nínú ọ ̀ rọ ̀ àti ìṣe .\"\n",
            "Ònlo Weibo kan fi ẹ ̀ hónú hàn :\n",
            "\"Bí àwọn ènìyàn ìlú kan bá mú àjọyọ ̀ àjọ ̀ dún ìlú mìíràn ní òkúnkúndùn ju bí ó ṣe yẹ , èyí fi hàn wípé orílẹ ̀ -èdè náà ń jẹ ìyà ìgbógunti àṣà .\"\n",
            "\"Obìrin kò pọ ̀ nínú iṣẹ ́ ọkọ ̀ òfuurufú , bẹ ́ ẹ ̀ ni ó sì ṣe rí káríayé .\"\n",
            "==> dev.en <==\n",
            "\"With modesty , the Zone9 bloggers said : “ We are not strong or courageous people … we are only glad we inspired others . ”\"\n",
            "\"Whether one likes to celebrate or not is none of others ’ business , why do people just have to force others to agree with their view ?\"\n",
            "\"Pressure goes beyond social media platforms , extending to institutions such as schools and corporations .\"\n",
            "\"Six members of the now liberated group made their premier international engagement in Ghana during FIFA conference : Atnaf Berhane , Befeqadu Hailu Techane , Zelalem Kibret , Natnael Feleke Aberra , and Abel Wabella were all in attendance .\"\n",
            "\"In addition to Christmas , the list of Western festivals also includes Valentine ’ s Day , Easter and Halloween , among others .\"\n",
            "\"To celebrate or not , that ’ s the question .\"\n",
            "\"In 2014 , nine Ethiopian writers were jailed and tortured over a collective blogging project in which they wrote about human rights violations by Ethiopia ’ s former government , daring to speak truth to power .\"\n",
            "\"As they spoke , the lights on the stage dimmed .\"\n",
            "Mozambique 's first all-female crew | Photo used with permission from Meck Antonio .\n",
            "Some people try to draw connection between celebrating Christmas and the national humiliation that happened 160 years ago .\n",
            "\n",
            "==> dev.yo <==\n",
            "\"Pẹ ̀ lú ìrẹ ̀ lẹ ̀ , àwọn akọbúlọ ́ ọ ̀ gù Zone9 sọ wípé : \"\" A kò kí ń ṣe ẹni tí ó ní okun tàbí ìgboyà .. inúu wa dùn nítorí wípé a fún àwọn ènìyàn mìíràn ní ìmísí ni . \"\"\"\n",
            "\"Kò kan ẹnikéni bóyá èèyàn féràn àjọyọ ̀ tàbí kò fẹ ́ , kí ni ó dé tí àwọn ènìyàn ṣe fẹ ́ ràn láti máa fi túláàsì mú ẹlòmíràn gba èròńgbà ti wọn ?\"\n",
            "\"Awuyewuye ti kọjáa ti gbàgede orí ẹ ̀ rọ-alátagbà , ó kàn dé ilé-ìwé àti àjọ ìlú .\"\n",
            "\"Àwọn mẹ ́ fà lára àwọn ẹgbẹ ́ náà tí ó ti gba òmìnira báyìí ṣe ìtàkùrọ ̀ sọ àgbáyé àkọ ́ kọ ́ ní ìlú Ghana ní àsìkò àpérò FIFA : Atnaf Berhane , Befeqadu Hailu Techane , Zelalem Kibret , Natnael Feleke Aberra , àti Abel Wabella náà wá sí àpérò .\"\n",
            "\"Láfikún-un Kérésìmesì , àkàsílẹ ̀ àwọn àjọ ̀ dún Òyìnbó kò yọ Àyájọ ́ Ọjọ ́ Olólùfẹ ́ , Àjíǹde àti Halowíìnì , àti bẹ ́ ẹ ̀ bẹ ́ ẹ ̀ lọ sí ẹ ̀ yìn .\"\n",
            "\"Kí a ṣe àjọyọ ̀ àbí kí á máà ṣe é , ìbéèrè ni ìyẹn .\"\n",
            "\"Ní ọdún 2014 , àwọn òǹkọ ̀ wé ọmọ bíbí Ethiopia mẹ ́ sàn-án lọ sí ẹ ̀ wọ ̀ n àti jìyà oró látàrí iṣẹ ́ àjọṣepọ ̀ tí wọ ́ n jọ kọ nípa ìtẹsẹ ̀ àgẹ ̀ rẹ ̀ sí ẹ ̀ tọ ́ ọmọ-ènìyàn ìjọba àná ìlú Ethiopia , kí òótọ ́ ó di mímọ ̀ .\"\n",
            "\"Bí wọ ́ n ti ṣe sọ , iná amọ ́ roro ìtàgé wálẹ ̀ díẹ ̀ .\"\n",
            "Ikọ ̀ awakọ ̀ òfuurufú olóbìrin àkọ ́ kọ ́ irúu rẹ ̀ ní Mozambique | A lo àwòrán pẹ ̀ lú àṣẹ láti ọwọ ́ Meck Antonio .\n",
            "Àwọn kan gbèrò wọ ́ n fẹ ́ gbé àjọyọ ̀ Kérésìmesì fi ẹ ̀ gbẹ ́ kan ẹ ̀ gbẹ ́ pẹ ̀ lú ìrẹ ̀ sílẹ ̀ ìlú tí ó wáyé ní 160 ọdún sẹ ́ yìn .\n"
          ]
        }
      ]
    },
    {
      "cell_type": "code",
      "source": [
        "# !pip install datasets evaluate transformers[sentencepiece]\n",
        "\n",
        "# # Install Pytorch with GPU support v1.7.1.\n",
        "# ! pip3 install torch==1.10.0+cu113 torchvision==0.11.1+cu113 torchaudio===0.10.0+cu113 -f https://download.pytorch.org/whl/cu113/torch_stable.html"
      ],
      "metadata": {
        "id": "XfFQUlPfwsbw"
      },
      "execution_count": 15,
      "outputs": []
    },
    {
      "cell_type": "markdown",
      "source": [
        "## Preprocessing the Data (pytorch)"
      ],
      "metadata": {
        "id": "3au2kQn5DJM_"
      }
    },
    {
      "cell_type": "code",
      "source": [
        "import torch\n",
        "from transformers import AdamW, AutoTokenizer, AutoModelForSequenceClassification\n",
        "\n",
        "# Same as before\n",
        "checkpoint = \"bert-base-uncased\"\n",
        "tokenizer = AutoTokenizer.from_pretrained(checkpoint)\n",
        "model = AutoModelForSequenceClassification.from_pretrained(checkpoint)\n",
        "sequences = [\n",
        "    \"I've been waiting for a HuggingFace course my whole life.\",\n",
        "    \"This course is amazing!\",\n",
        "]\n",
        "batch = tokenizer(sequences, padding=True, truncation=True, return_tensors=\"pt\")\n",
        "\n",
        "# This is new\n",
        "batch[\"labels\"] = torch.tensor([1, 1])\n",
        "\n",
        "optimizer = torch.optim.AdamW(model.parameters())\n",
        "loss = model(**batch).loss\n",
        "loss.backward()\n",
        "optimizer.step()"
      ],
      "metadata": {
        "id": "iOPuSr2WqdEJ",
        "colab": {
          "base_uri": "https://localhost:8080/"
        },
        "outputId": "de63ce21-fad1-4479-c5ba-be6ef19c7956"
      },
      "execution_count": 1,
      "outputs": [
        {
          "output_type": "stream",
          "name": "stderr",
          "text": [
            "Some weights of the model checkpoint at bert-base-uncased were not used when initializing BertForSequenceClassification: ['cls.predictions.bias', 'cls.predictions.transform.LayerNorm.weight', 'cls.seq_relationship.bias', 'cls.predictions.decoder.weight', 'cls.predictions.transform.dense.weight', 'cls.seq_relationship.weight', 'cls.predictions.transform.dense.bias', 'cls.predictions.transform.LayerNorm.bias']\n",
            "- This IS expected if you are initializing BertForSequenceClassification from the checkpoint of a model trained on another task or with another architecture (e.g. initializing a BertForSequenceClassification model from a BertForPreTraining model).\n",
            "- This IS NOT expected if you are initializing BertForSequenceClassification from the checkpoint of a model that you expect to be exactly identical (initializing a BertForSequenceClassification model from a BertForSequenceClassification model).\n",
            "Some weights of BertForSequenceClassification were not initialized from the model checkpoint at bert-base-uncased and are newly initialized: ['classifier.weight', 'classifier.bias']\n",
            "You should probably TRAIN this model on a down-stream task to be able to use it for predictions and inference.\n"
          ]
        }
      ]
    },
    {
      "cell_type": "code",
      "source": [
        "from datasets import load_dataset\n",
        "\n",
        "raw_datasets = load_dataset(\"yoruba_text_c3\")\n",
        "raw_datasets"
      ],
      "metadata": {
        "id": "yDrpEYAgqdBQ",
        "colab": {
          "base_uri": "https://localhost:8080/",
          "height": 170,
          "referenced_widgets": [
            "c561475f5ca341f69d4e8118998ead14",
            "056d45ab48874b35a3e3bdc7c769bf15",
            "75ae8b2cfe244716bf7da55bf7504872",
            "40cc45ccfffc49b18972c10934e56655",
            "5da97c739fb149afbf7353245791bff9",
            "ec97a44893ce47e3abf33f56fa699493",
            "d96cfa47ddd34b1dac5edb2be497dc38",
            "a4a4315e857e4d85bdb49242e86e6ffe",
            "c7c1560b6d574db3ae28729d1f3fb7cd",
            "0a7918117b3744a3af9129756ccdc447",
            "f4eac8fa96ea47c28d3362315e19fa48"
          ]
        },
        "outputId": "8e582257-273c-41ba-ee17-1a2a0398046f"
      },
      "execution_count": 2,
      "outputs": [
        {
          "output_type": "stream",
          "name": "stderr",
          "text": [
            "Reusing dataset yoruba_text_c3 (/root/.cache/huggingface/datasets/yoruba_text_c3/yoruba_text_c3/1.0.0/dbf0b0085c03d98b73f35fe80f4e75928025b483958c24f86440104921830d98)\n"
          ]
        },
        {
          "output_type": "display_data",
          "data": {
            "text/plain": [
              "  0%|          | 0/1 [00:00<?, ?it/s]"
            ],
            "application/vnd.jupyter.widget-view+json": {
              "version_major": 2,
              "version_minor": 0,
              "model_id": "c561475f5ca341f69d4e8118998ead14"
            }
          },
          "metadata": {}
        },
        {
          "output_type": "execute_result",
          "data": {
            "text/plain": [
              "DatasetDict({\n",
              "    train: Dataset({\n",
              "        features: ['text'],\n",
              "        num_rows: 562238\n",
              "    })\n",
              "})"
            ]
          },
          "metadata": {},
          "execution_count": 2
        }
      ]
    },
    {
      "cell_type": "code",
      "source": [
        "raw_train_dataset = raw_datasets[\"train\"]\n",
        "raw_train_dataset[0]"
      ],
      "metadata": {
        "id": "BoXkHeGbqc9S",
        "colab": {
          "base_uri": "https://localhost:8080/"
        },
        "outputId": "31048163-e6b0-4940-89dd-74adf1c732af"
      },
      "execution_count": 3,
      "outputs": [
        {
          "output_type": "execute_result",
          "data": {
            "text/plain": [
              "{'text': 'lílo àkàbà — ǹjẹ́ o máa ń ṣe àyẹ̀wò wọ̀nyí tó lè dáàbò bò ẹ́'}"
            ]
          },
          "metadata": {},
          "execution_count": 3
        }
      ]
    },
    {
      "cell_type": "code",
      "source": [
        "raw_train_dataset.features"
      ],
      "metadata": {
        "colab": {
          "base_uri": "https://localhost:8080/"
        },
        "id": "jfBa2kXZO2zi",
        "outputId": "92d893a9-0679-46c4-ab5d-70752db7eb84"
      },
      "execution_count": 4,
      "outputs": [
        {
          "output_type": "execute_result",
          "data": {
            "text/plain": [
              "{'text': Value(dtype='string', id=None)}"
            ]
          },
          "metadata": {},
          "execution_count": 4
        }
      ]
    },
    {
      "cell_type": "code",
      "source": [
        "from transformers import AutoTokenizer\n",
        "\n",
        "checkpoint = \"bert-base-uncased\"\n",
        "tokenizer = AutoTokenizer.from_pretrained(checkpoint)\n",
        "tokenized_sentences_1 = tokenizer(raw_datasets[\"train\"][\"text\"])"
      ],
      "metadata": {
        "colab": {
          "base_uri": "https://localhost:8080/"
        },
        "id": "LcLyngIYPSuv",
        "outputId": "245a85c9-426d-4f26-9c46-a117ff577520"
      },
      "execution_count": 5,
      "outputs": [
        {
          "output_type": "stream",
          "name": "stderr",
          "text": [
            "Token indices sequence length is longer than the specified maximum sequence length for this model (3774 > 512). Running this sequence through the model will result in indexing errors\n"
          ]
        }
      ]
    },
    {
      "cell_type": "code",
      "source": [
        "inputs = tokenizer(\"This is the first sentence.\", \"This is the second one.\")\n",
        "inputs"
      ],
      "metadata": {
        "colab": {
          "base_uri": "https://localhost:8080/"
        },
        "id": "m4k0cD6dPrnl",
        "outputId": "14523b90-12a6-466e-fa8b-c2617820e229"
      },
      "execution_count": 6,
      "outputs": [
        {
          "output_type": "execute_result",
          "data": {
            "text/plain": [
              "{'input_ids': [101, 2023, 2003, 1996, 2034, 6251, 1012, 102, 2023, 2003, 1996, 2117, 2028, 1012, 102], 'token_type_ids': [0, 0, 0, 0, 0, 0, 0, 0, 1, 1, 1, 1, 1, 1, 1], 'attention_mask': [1, 1, 1, 1, 1, 1, 1, 1, 1, 1, 1, 1, 1, 1, 1]}"
            ]
          },
          "metadata": {},
          "execution_count": 6
        }
      ]
    },
    {
      "cell_type": "code",
      "source": [
        "tokenizer.convert_ids_to_tokens(inputs[\"input_ids\"])"
      ],
      "metadata": {
        "colab": {
          "base_uri": "https://localhost:8080/"
        },
        "id": "sI6sLWNNPrk1",
        "outputId": "7da0b211-b8a8-45ed-b4f7-6a24dca987e5"
      },
      "execution_count": 7,
      "outputs": [
        {
          "output_type": "execute_result",
          "data": {
            "text/plain": [
              "['[CLS]',\n",
              " 'this',\n",
              " 'is',\n",
              " 'the',\n",
              " 'first',\n",
              " 'sentence',\n",
              " '.',\n",
              " '[SEP]',\n",
              " 'this',\n",
              " 'is',\n",
              " 'the',\n",
              " 'second',\n",
              " 'one',\n",
              " '.',\n",
              " '[SEP]']"
            ]
          },
          "metadata": {},
          "execution_count": 7
        }
      ]
    },
    {
      "cell_type": "code",
      "source": [
        "tokenized_dataset = tokenizer(\n",
        "    raw_datasets[\"train\"][\"text\"],\n",
        "    padding=True,\n",
        "    truncation=True,\n",
        ")"
      ],
      "metadata": {
        "id": "cC4dHwtPPriQ"
      },
      "execution_count": null,
      "outputs": []
    },
    {
      "cell_type": "code",
      "source": [
        "def tokenize_function(example):\n",
        "    return tokenizer(example[\"text\"], truncation=True)"
      ],
      "metadata": {
        "id": "SyYdSgQJP-Pm"
      },
      "execution_count": null,
      "outputs": []
    },
    {
      "cell_type": "code",
      "source": [
        ""
      ],
      "metadata": {
        "id": "YJbfXpszP-NC"
      },
      "execution_count": null,
      "outputs": []
    },
    {
      "cell_type": "code",
      "source": [
        ""
      ],
      "metadata": {
        "id": "rpOVi1y-P-Kn"
      },
      "execution_count": null,
      "outputs": []
    },
    {
      "cell_type": "code",
      "source": [
        ""
      ],
      "metadata": {
        "id": "GRrKkJY1P-HQ"
      },
      "execution_count": null,
      "outputs": []
    }
  ]
}