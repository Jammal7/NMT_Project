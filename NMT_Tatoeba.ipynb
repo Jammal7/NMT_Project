{
  "nbformat": 4,
  "nbformat_minor": 0,
  "metadata": {
    "colab": {
      "name": "NMT_Tatoeba.ipynb",
      "provenance": [],
      "collapsed_sections": []
    },
    "kernelspec": {
      "name": "python3",
      "display_name": "Python 3"
    },
    "language_info": {
      "name": "python"
    },
    "gpuClass": "standard",
    "accelerator": "GPU"
  },
  "cells": [
    {
      "cell_type": "code",
      "source": [
        "from google.colab import drive\n",
        "drive.mount('/content/drive')"
      ],
      "metadata": {
        "colab": {
          "base_uri": "https://localhost:8080/"
        },
        "id": "O8lIba5-SdO8",
        "outputId": "05591c43-ff07-45a3-99af-73c975870095"
      },
      "execution_count": 1,
      "outputs": [
        {
          "output_type": "stream",
          "name": "stdout",
          "text": [
            "Mounted at /content/drive\n"
          ]
        }
      ]
    },
    {
      "cell_type": "code",
      "source": [
        "import os\n",
        "source_language = \"en\"\n",
        "target_language = \"yo\" \n",
        "lc = False  \n",
        "seed = 42  \n",
        "tag = \"baseline\" \n",
        "\n",
        "os.environ[\"src\"] = source_language # Sets them in bash as well, since we often use bash scripts\n",
        "os.environ[\"tgt\"] = target_language\n",
        "os.environ[\"tag\"] = tag\n",
        "\n",
        "# This will save it to a folder in our gdrive instead!\n",
        "!mkdir -p \"/content/drive/MyDrive/Data Science Project/Neural-machine-translation/Tatoeba/$src-$tgt-$tag\"\n",
        "os.environ[\"gdrive_path\"] = \"/content/drive/MyDrive/Data Science Project/Neural-machine-translation/Tatoeba/%s-%s-%s\" % (source_language, target_language, tag)"
      ],
      "metadata": {
        "id": "ufjXAb4sSdLn"
      },
      "execution_count": 2,
      "outputs": []
    },
    {
      "cell_type": "code",
      "source": [
        "!echo $gdrive_path"
      ],
      "metadata": {
        "colab": {
          "base_uri": "https://localhost:8080/"
        },
        "id": "GYpppaAHSdKA",
        "outputId": "3df84b5a-1d02-403b-bf22-1e9099d23027"
      },
      "execution_count": 3,
      "outputs": [
        {
          "output_type": "stream",
          "name": "stdout",
          "text": [
            "/content/drive/MyDrive/Data Science Project/Neural-machine-translation/Tatoeba/en-yo-baseline\n"
          ]
        }
      ]
    },
    {
      "cell_type": "code",
      "source": [
        "# Install opus-tools\n",
        "! pip install opustools-pkg"
      ],
      "metadata": {
        "colab": {
          "base_uri": "https://localhost:8080/"
        },
        "id": "TGPOIaNmSdHz",
        "outputId": "a15ff2ce-7b31-49ad-ae5e-f3dd5ed73807"
      },
      "execution_count": 4,
      "outputs": [
        {
          "output_type": "stream",
          "name": "stdout",
          "text": [
            "Looking in indexes: https://pypi.org/simple, https://us-python.pkg.dev/colab-wheels/public/simple/\n",
            "Collecting opustools-pkg\n",
            "  Downloading opustools_pkg-0.0.52-py3-none-any.whl (80 kB)\n",
            "\u001b[K     |████████████████████████████████| 80 kB 5.1 MB/s \n",
            "\u001b[?25hInstalling collected packages: opustools-pkg\n",
            "Successfully installed opustools-pkg-0.0.52\n"
          ]
        }
      ]
    },
    {
      "cell_type": "code",
      "source": [
        "# # Downloading our corpus\n",
        "# ! opus_read -d Tatoeba -s $src -t $tgt -wm moses -w tatoeba.$src tatoeba.$tgt -q\n",
        "\n",
        "# # extract the corpus file\n",
        "# ! gunzip Tatoeba_latest_xml_$src-$tgt.xml.gz\n",
        "\n",
        "# Downloading our corpus\n",
        "! opus_read -d GlobalVoices -s $src -t $tgt -wm moses -w globalvoices.$src globalvoices.$tgt -q\n",
        "\n",
        "# extract the corpus file\n",
        "! gunzip GlobalVoices_latest_xml_$src-$tgt.xml.gz"
      ],
      "metadata": {
        "colab": {
          "base_uri": "https://localhost:8080/"
        },
        "id": "OMxX07NgSdFg",
        "outputId": "e15bc322-0d00-4e84-c16d-bcb6e977a06e"
      },
      "execution_count": 5,
      "outputs": [
        {
          "output_type": "stream",
          "name": "stdout",
          "text": [
            "\n",
            "Alignment file /proj/nlpl/data/OPUS/GlobalVoices/latest/xml/en-yo.xml.gz not found. The following files are available for downloading:\n",
            "\n",
            "   0 KB https://object.pouta.csc.fi/OPUS-GlobalVoices/v2018q4/xml/en-yo.xml.gz\n",
            " 357 MB https://object.pouta.csc.fi/OPUS-GlobalVoices/v2018q4/xml/en.zip\n",
            "  25 KB https://object.pouta.csc.fi/OPUS-GlobalVoices/v2018q4/xml/yo.zip\n",
            "\n",
            " 357 MB Total size\n",
            "./GlobalVoices_latest_xml_en-yo.xml.gz ... 100% of 0 KB\n",
            "./GlobalVoices_latest_xml_en.zip ... 100% of 357 MB\n",
            "./GlobalVoices_latest_xml_yo.zip ... 100% of 25 KB\n"
          ]
        }
      ]
    },
    {
      "cell_type": "code",
      "source": [
        "# Download the global test set.\n",
        "! wget https://raw.githubusercontent.com/juliakreutzer/masakhane/master/jw300_utils/test/test.en-any.en\n",
        "  \n",
        "# And the specific test set for this language pair.\n",
        "os.environ[\"trg\"] = target_language \n",
        "os.environ[\"src\"] = source_language \n",
        "\n",
        "! wget https://raw.githubusercontent.com/juliakreutzer/masakhane/master/jw300_utils/test/test.en-$trg.en \n",
        "! mv test.en-$trg.en test.en\n",
        "! wget https://raw.githubusercontent.com/juliakreutzer/masakhane/master/jw300_utils/test/test.en-$trg.$trg \n",
        "! mv test.en-$trg.$trg test.$trg"
      ],
      "metadata": {
        "colab": {
          "base_uri": "https://localhost:8080/"
        },
        "id": "s_nFb6RkSdAt",
        "outputId": "97784309-e714-4802-e23a-4746ed243a77"
      },
      "execution_count": 6,
      "outputs": [
        {
          "output_type": "stream",
          "name": "stdout",
          "text": [
            "--2022-07-26 13:49:46--  https://raw.githubusercontent.com/juliakreutzer/masakhane/master/jw300_utils/test/test.en-any.en\n",
            "Resolving raw.githubusercontent.com (raw.githubusercontent.com)... 185.199.108.133, 185.199.109.133, 185.199.110.133, ...\n",
            "Connecting to raw.githubusercontent.com (raw.githubusercontent.com)|185.199.108.133|:443... connected.\n",
            "HTTP request sent, awaiting response... 200 OK\n",
            "Length: 277791 (271K) [text/plain]\n",
            "Saving to: ‘test.en-any.en’\n",
            "\n",
            "test.en-any.en      100%[===================>] 271.28K  --.-KB/s    in 0.04s   \n",
            "\n",
            "2022-07-26 13:49:46 (6.51 MB/s) - ‘test.en-any.en’ saved [277791/277791]\n",
            "\n",
            "--2022-07-26 13:49:46--  https://raw.githubusercontent.com/juliakreutzer/masakhane/master/jw300_utils/test/test.en-yo.en\n",
            "Resolving raw.githubusercontent.com (raw.githubusercontent.com)... 185.199.109.133, 185.199.108.133, 185.199.111.133, ...\n",
            "Connecting to raw.githubusercontent.com (raw.githubusercontent.com)|185.199.109.133|:443... connected.\n",
            "HTTP request sent, awaiting response... 200 OK\n",
            "Length: 201994 (197K) [text/plain]\n",
            "Saving to: ‘test.en-yo.en’\n",
            "\n",
            "test.en-yo.en       100%[===================>] 197.26K  --.-KB/s    in 0.02s   \n",
            "\n",
            "2022-07-26 13:49:46 (11.7 MB/s) - ‘test.en-yo.en’ saved [201994/201994]\n",
            "\n",
            "--2022-07-26 13:49:46--  https://raw.githubusercontent.com/juliakreutzer/masakhane/master/jw300_utils/test/test.en-yo.yo\n",
            "Resolving raw.githubusercontent.com (raw.githubusercontent.com)... 185.199.109.133, 185.199.108.133, 185.199.111.133, ...\n",
            "Connecting to raw.githubusercontent.com (raw.githubusercontent.com)|185.199.109.133|:443... connected.\n",
            "HTTP request sent, awaiting response... 200 OK\n",
            "Length: 280073 (274K) [text/plain]\n",
            "Saving to: ‘test.en-yo.yo’\n",
            "\n",
            "test.en-yo.yo       100%[===================>] 273.51K  --.-KB/s    in 0.02s   \n",
            "\n",
            "2022-07-26 13:49:47 (12.2 MB/s) - ‘test.en-yo.yo’ saved [280073/280073]\n",
            "\n"
          ]
        }
      ]
    },
    {
      "cell_type": "code",
      "source": [
        "# Read the test data to filter from train and dev splits.\n",
        "# Store english portion in set for quick filtering checks.\n",
        "en_test_sents = set()\n",
        "filter_test_sents = \"test.en-any.en\"\n",
        "j = 0\n",
        "with open(filter_test_sents) as f:\n",
        "  for line in f:\n",
        "    en_test_sents.add(line.strip())\n",
        "    j += 1\n",
        "print('Loaded {} global test sentences to filter from the training/dev data.'.format(j))"
      ],
      "metadata": {
        "colab": {
          "base_uri": "https://localhost:8080/"
        },
        "id": "F1_0u7H_ScNn",
        "outputId": "f9d2ba87-5854-4a6f-d0cf-330ab58c11ea"
      },
      "execution_count": 7,
      "outputs": [
        {
          "output_type": "stream",
          "name": "stdout",
          "text": [
            "Loaded 3571 global test sentences to filter from the training/dev data.\n"
          ]
        }
      ]
    },
    {
      "cell_type": "code",
      "execution_count": 10,
      "metadata": {
        "colab": {
          "base_uri": "https://localhost:8080/",
          "height": 161
        },
        "id": "EuxBigjbSW-L",
        "outputId": "ea84e00e-b2d1-4c6d-fb9a-c98679772118"
      },
      "outputs": [
        {
          "output_type": "stream",
          "name": "stdout",
          "text": [
            "Loaded data and skipped 0/132 lines since contained in test set.\n"
          ]
        },
        {
          "output_type": "execute_result",
          "data": {
            "text/plain": [
              "                                     source_sentence  \\\n",
              "0  An all-female flight crew makes history in Moz...   \n",
              "1  Mozambique 's first all-female crew | Photo us...   \n",
              "2  It is a historic day : that is how many Mozamb...   \n",
              "\n",
              "                                     target_sentence  \n",
              "0  Òṣìṣẹ ́ inú ọkọ ̀ òfuurufú olóbìrin nìkan wọ ì...  \n",
              "1  Ikọ ̀ awakọ ̀ òfuurufú olóbìrin àkọ ́ kọ ́ irú...  \n",
              "2  Ọjọ ́ ìtàn ni ọjọ ́ yìí : ojú yìí ni ogunlọ ́ ...  "
            ],
            "text/html": [
              "\n",
              "  <div id=\"df-29e5a3b9-049a-474b-bb8a-c156b9408e60\">\n",
              "    <div class=\"colab-df-container\">\n",
              "      <div>\n",
              "<style scoped>\n",
              "    .dataframe tbody tr th:only-of-type {\n",
              "        vertical-align: middle;\n",
              "    }\n",
              "\n",
              "    .dataframe tbody tr th {\n",
              "        vertical-align: top;\n",
              "    }\n",
              "\n",
              "    .dataframe thead th {\n",
              "        text-align: right;\n",
              "    }\n",
              "</style>\n",
              "<table border=\"1\" class=\"dataframe\">\n",
              "  <thead>\n",
              "    <tr style=\"text-align: right;\">\n",
              "      <th></th>\n",
              "      <th>source_sentence</th>\n",
              "      <th>target_sentence</th>\n",
              "    </tr>\n",
              "  </thead>\n",
              "  <tbody>\n",
              "    <tr>\n",
              "      <th>0</th>\n",
              "      <td>An all-female flight crew makes history in Moz...</td>\n",
              "      <td>Òṣìṣẹ ́ inú ọkọ ̀ òfuurufú olóbìrin nìkan wọ ì...</td>\n",
              "    </tr>\n",
              "    <tr>\n",
              "      <th>1</th>\n",
              "      <td>Mozambique 's first all-female crew | Photo us...</td>\n",
              "      <td>Ikọ ̀ awakọ ̀ òfuurufú olóbìrin àkọ ́ kọ ́ irú...</td>\n",
              "    </tr>\n",
              "    <tr>\n",
              "      <th>2</th>\n",
              "      <td>It is a historic day : that is how many Mozamb...</td>\n",
              "      <td>Ọjọ ́ ìtàn ni ọjọ ́ yìí : ojú yìí ni ogunlọ ́ ...</td>\n",
              "    </tr>\n",
              "  </tbody>\n",
              "</table>\n",
              "</div>\n",
              "      <button class=\"colab-df-convert\" onclick=\"convertToInteractive('df-29e5a3b9-049a-474b-bb8a-c156b9408e60')\"\n",
              "              title=\"Convert this dataframe to an interactive table.\"\n",
              "              style=\"display:none;\">\n",
              "        \n",
              "  <svg xmlns=\"http://www.w3.org/2000/svg\" height=\"24px\"viewBox=\"0 0 24 24\"\n",
              "       width=\"24px\">\n",
              "    <path d=\"M0 0h24v24H0V0z\" fill=\"none\"/>\n",
              "    <path d=\"M18.56 5.44l.94 2.06.94-2.06 2.06-.94-2.06-.94-.94-2.06-.94 2.06-2.06.94zm-11 1L8.5 8.5l.94-2.06 2.06-.94-2.06-.94L8.5 2.5l-.94 2.06-2.06.94zm10 10l.94 2.06.94-2.06 2.06-.94-2.06-.94-.94-2.06-.94 2.06-2.06.94z\"/><path d=\"M17.41 7.96l-1.37-1.37c-.4-.4-.92-.59-1.43-.59-.52 0-1.04.2-1.43.59L10.3 9.45l-7.72 7.72c-.78.78-.78 2.05 0 2.83L4 21.41c.39.39.9.59 1.41.59.51 0 1.02-.2 1.41-.59l7.78-7.78 2.81-2.81c.8-.78.8-2.07 0-2.86zM5.41 20L4 18.59l7.72-7.72 1.47 1.35L5.41 20z\"/>\n",
              "  </svg>\n",
              "      </button>\n",
              "      \n",
              "  <style>\n",
              "    .colab-df-container {\n",
              "      display:flex;\n",
              "      flex-wrap:wrap;\n",
              "      gap: 12px;\n",
              "    }\n",
              "\n",
              "    .colab-df-convert {\n",
              "      background-color: #E8F0FE;\n",
              "      border: none;\n",
              "      border-radius: 50%;\n",
              "      cursor: pointer;\n",
              "      display: none;\n",
              "      fill: #1967D2;\n",
              "      height: 32px;\n",
              "      padding: 0 0 0 0;\n",
              "      width: 32px;\n",
              "    }\n",
              "\n",
              "    .colab-df-convert:hover {\n",
              "      background-color: #E2EBFA;\n",
              "      box-shadow: 0px 1px 2px rgba(60, 64, 67, 0.3), 0px 1px 3px 1px rgba(60, 64, 67, 0.15);\n",
              "      fill: #174EA6;\n",
              "    }\n",
              "\n",
              "    [theme=dark] .colab-df-convert {\n",
              "      background-color: #3B4455;\n",
              "      fill: #D2E3FC;\n",
              "    }\n",
              "\n",
              "    [theme=dark] .colab-df-convert:hover {\n",
              "      background-color: #434B5C;\n",
              "      box-shadow: 0px 1px 3px 1px rgba(0, 0, 0, 0.15);\n",
              "      filter: drop-shadow(0px 1px 2px rgba(0, 0, 0, 0.3));\n",
              "      fill: #FFFFFF;\n",
              "    }\n",
              "  </style>\n",
              "\n",
              "      <script>\n",
              "        const buttonEl =\n",
              "          document.querySelector('#df-29e5a3b9-049a-474b-bb8a-c156b9408e60 button.colab-df-convert');\n",
              "        buttonEl.style.display =\n",
              "          google.colab.kernel.accessAllowed ? 'block' : 'none';\n",
              "\n",
              "        async function convertToInteractive(key) {\n",
              "          const element = document.querySelector('#df-29e5a3b9-049a-474b-bb8a-c156b9408e60');\n",
              "          const dataTable =\n",
              "            await google.colab.kernel.invokeFunction('convertToInteractive',\n",
              "                                                     [key], {});\n",
              "          if (!dataTable) return;\n",
              "\n",
              "          const docLinkHtml = 'Like what you see? Visit the ' +\n",
              "            '<a target=\"_blank\" href=https://colab.research.google.com/notebooks/data_table.ipynb>data table notebook</a>'\n",
              "            + ' to learn more about interactive tables.';\n",
              "          element.innerHTML = '';\n",
              "          dataTable['output_type'] = 'display_data';\n",
              "          await google.colab.output.renderOutput(dataTable, element);\n",
              "          const docLink = document.createElement('div');\n",
              "          docLink.innerHTML = docLinkHtml;\n",
              "          element.appendChild(docLink);\n",
              "        }\n",
              "      </script>\n",
              "    </div>\n",
              "  </div>\n",
              "  "
            ]
          },
          "metadata": {},
          "execution_count": 10
        }
      ],
      "source": [
        "import pandas as pd\n",
        "\n",
        "# TMX file to dataframe\n",
        "source_file = 'globalvoices.' + source_language\n",
        "target_file = 'globalvoices.' + target_language\n",
        "\n",
        "source = []\n",
        "target = []\n",
        "skip_lines = []  # Collect the line numbers of the source portion to skip the same lines for the target portion.\n",
        "with open(source_file) as f:\n",
        "    for i, line in enumerate(f):\n",
        "        # Skip sentences that are contained in the test set.\n",
        "        if line.strip() not in en_test_sents:\n",
        "            source.append(line.strip())\n",
        "        else:\n",
        "            skip_lines.append(i)             \n",
        "with open(target_file) as f:\n",
        "    for j, line in enumerate(f):\n",
        "        # Only add to corpus if corresponding source was not skipped.\n",
        "        if j not in skip_lines:\n",
        "            target.append(line.strip())\n",
        "    \n",
        "print('Loaded data and skipped {}/{} lines since contained in test set.'.format(len(skip_lines), i))\n",
        "    \n",
        "df = pd.DataFrame(zip(source, target), columns=['source_sentence', 'target_sentence'])\n",
        "df.head(3)"
      ]
    },
    {
      "cell_type": "markdown",
      "source": [
        "### Pre-processing and export"
      ],
      "metadata": {
        "id": "db6uPetCrxi6"
      }
    },
    {
      "cell_type": "code",
      "source": [
        "# drop duplicate translations\n",
        "df_pp = df.drop_duplicates()\n",
        "\n",
        "# Shuffle the data to remove bias in dev set selection.\n",
        "df_pp = df_pp.sample(frac=1, random_state=seed).reset_index(drop=True)"
      ],
      "metadata": {
        "id": "SGPh80m1qdT-"
      },
      "execution_count": 11,
      "outputs": []
    },
    {
      "cell_type": "code",
      "source": [
        "# !pip install fuzzywuzzy\n",
        "# !pip install python-Levenshtein"
      ],
      "metadata": {
        "colab": {
          "base_uri": "https://localhost:8080/"
        },
        "id": "YQxyrn87qdRe",
        "outputId": "ce9667e7-85ea-44ca-e471-1c8e1181b9f1"
      },
      "execution_count": 12,
      "outputs": [
        {
          "output_type": "stream",
          "name": "stdout",
          "text": [
            "Looking in indexes: https://pypi.org/simple, https://us-python.pkg.dev/colab-wheels/public/simple/\n",
            "Collecting fuzzywuzzy\n",
            "  Downloading fuzzywuzzy-0.18.0-py2.py3-none-any.whl (18 kB)\n",
            "Installing collected packages: fuzzywuzzy\n",
            "Successfully installed fuzzywuzzy-0.18.0\n",
            "Looking in indexes: https://pypi.org/simple, https://us-python.pkg.dev/colab-wheels/public/simple/\n",
            "Collecting python-Levenshtein\n",
            "  Downloading python-Levenshtein-0.12.2.tar.gz (50 kB)\n",
            "\u001b[K     |████████████████████████████████| 50 kB 4.0 MB/s \n",
            "\u001b[?25hRequirement already satisfied: setuptools in /usr/local/lib/python3.7/dist-packages (from python-Levenshtein) (57.4.0)\n",
            "Building wheels for collected packages: python-Levenshtein\n",
            "  Building wheel for python-Levenshtein (setup.py) ... \u001b[?25l\u001b[?25hdone\n",
            "  Created wheel for python-Levenshtein: filename=python_Levenshtein-0.12.2-cp37-cp37m-linux_x86_64.whl size=149864 sha256=328f494212f9977f35fbc8681d12049b08cb43e1c59e7b9d749ba42dad683c0f\n",
            "  Stored in directory: /root/.cache/pip/wheels/05/5f/ca/7c4367734892581bb5ff896f15027a932c551080b2abd3e00d\n",
            "Successfully built python-Levenshtein\n",
            "Installing collected packages: python-Levenshtein\n",
            "Successfully installed python-Levenshtein-0.12.2\n"
          ]
        }
      ]
    },
    {
      "cell_type": "code",
      "source": [
        "import time\n",
        "from fuzzywuzzy import process\n",
        "import numpy as np\n",
        "from os import cpu_count\n",
        "from functools import partial\n",
        "from multiprocessing import Pool\n",
        "\n",
        "# reset the index of the training set after previous filtering\n",
        "df_pp.reset_index(drop=False, inplace=True)\n",
        "\n",
        "# Filtering function. Adjust pad to narrow down the candidate matches to within a certain length of characters of the given sample.\n",
        "def fuzzfilter(sample, candidates, pad):\n",
        "  candidates = [x for x in candidates if len(x) <= len(sample)+pad and len(x) >= len(sample)-pad] \n",
        "  if len(candidates) > 0:\n",
        "    return process.extractOne(sample, candidates)[1]\n",
        "  else:\n",
        "    return np.nan"
      ],
      "metadata": {
        "id": "rbxdeHpFqdOw"
      },
      "execution_count": 13,
      "outputs": []
    },
    {
      "cell_type": "code",
      "source": [
        "start_time = time.time()\n",
        "\n",
        "with Pool(cpu_count()-1) as pool:\n",
        "    scores = pool.map(partial(fuzzfilter, candidates=list(en_test_sents), pad=5), df_pp['source_sentence'])\n",
        "hours, rem = divmod(time.time() - start_time, 3600)\n",
        "minutes, seconds = divmod(rem, 60)\n",
        "print(\"done in {}h:{}min:{}seconds\".format(hours, minutes, seconds))\n",
        "\n",
        "# Filter out \"almost overlapping samples\"\n",
        "df_pp = df_pp.assign(scores=scores)\n",
        "df_pp = df_pp[df_pp['scores'] < 95]"
      ],
      "metadata": {
        "colab": {
          "base_uri": "https://localhost:8080/"
        },
        "id": "_KDrqQNuwsiK",
        "outputId": "60a59b0a-674f-4e71-f920-db94251eb348"
      },
      "execution_count": 14,
      "outputs": [
        {
          "output_type": "stream",
          "name": "stdout",
          "text": [
            "done in 0.0h:0.0min:2.230165719985962seconds\n"
          ]
        }
      ]
    },
    {
      "cell_type": "code",
      "source": [
        "# We use 1000 dev test and the given test set.\n",
        "import csv\n",
        "\n",
        "# Do the split between dev/train and create parallel corpora\n",
        "num_dev_patterns = 20\n",
        "\n",
        "# Optional: lower case the corpora - this will make it easier to generalize, but without proper casing.\n",
        "if lc:  # Julia: making lowercasing optional\n",
        "    df_pp[\"source_sentence\"] = df_pp[\"source_sentence\"].str.lower()\n",
        "    df_pp[\"target_sentence\"] = df_pp[\"target_sentence\"].str.lower()\n",
        "\n",
        "# Julia: test sets are already generated\n",
        "dev = df_pp.tail(num_dev_patterns) # Herman: Error in original\n",
        "stripped = df_pp.drop(df_pp.tail(num_dev_patterns).index)\n",
        "\n",
        "with open(\"train.\"+source_language, \"w\") as src_file, open(\"train.\"+target_language, \"w\") as trg_file:\n",
        "  for index, row in stripped.iterrows():\n",
        "    src_file.write(row[\"source_sentence\"]+\"\\n\")\n",
        "    trg_file.write(row[\"target_sentence\"]+\"\\n\")\n",
        "    \n",
        "with open(\"dev.\"+source_language, \"w\") as src_file, open(\"dev.\"+target_language, \"w\") as trg_file:\n",
        "  for index, row in dev.iterrows():\n",
        "    src_file.write(row[\"source_sentence\"]+\"\\n\")\n",
        "    trg_file.write(row[\"target_sentence\"]+\"\\n\")\n",
        "\n",
        "#stripped[[\"source_sentence\"]].to_csv(\"train.\"+source_language, header=False, index=False)  # Herman: Added `header=False` everywhere\n",
        "#stripped[[\"target_sentence\"]].to_csv(\"train.\"+target_language, header=False, index=False)  # Julia: Problematic handling of quotation marks.\n",
        "\n",
        "#dev[[\"source_sentence\"]].to_csv(\"dev.\"+source_language, header=False, index=False)\n",
        "#dev[[\"target_sentence\"]].to_csv(\"dev.\"+target_language, header=False, index=False)\n",
        "\n",
        "# Doublecheck the format below. There should be no extra quotation marks or weird characters.\n",
        "! head train.*\n",
        "! head dev.*"
      ],
      "metadata": {
        "colab": {
          "base_uri": "https://localhost:8080/"
        },
        "id": "SI7B1_Tmwseh",
        "outputId": "9b45568d-a0f1-49fa-b814-c42da3f716f3"
      },
      "execution_count": 16,
      "outputs": [
        {
          "output_type": "stream",
          "name": "stdout",
          "text": [
            "==> train.en <==\n",
            "The festivals can boost consumption , what ’ s wrong with that ?\n",
            "Child : I will not celebrate Western festivals Christmas is not a Chinese people ’ s festival .\n",
            "I am Chinese and I don ’ t celebrate Western festivals .\n",
            "The commentary references the history of the Eight-Nation Alliance , a coalition formed in response to the Boxer Rebellion in China between 1899 and 1901 when Chinese peasants rose up against foreign , colonial , Christian rule and culture .\n",
            "In their panel session , they credited Global Voices ' campaign for keeping them alive .\n",
            "The company has forbidden the celebration of Western festivals .\n",
            "Yet , the Zone9 bloggers redefined patriotism with both their words and actions .\n",
            "A Weibo user expressed frustration :\n",
            "If people of a nation are too enthusiastic in celebrating other nations ’ festivals , it indicates that the country is suffered from extremely serious cultural invasion .\n",
            "In aviation there are few women , very few , this is not only here but in the whole world .\n",
            "\n",
            "==> train.yo <==\n",
            "Àwọn àjọ ̀ dún wọ ̀ nyí lè mú ìkóúnjẹjẹ gbòòrò , kí ni ó burú nínú ìyẹn ?\n",
            "Ọmọ : Èmi ò ní ṣe àjọyọ ̀ àjọ ̀ dún Òyìnbó kì í ṣe àjọ ̀ dún ìlúu China .\n",
            "Ọmọ China ni mí n kò sì kí ń ṣe àjọyọ ̀ Òyìnbó .\n",
            "Awuyewuye náà tọ ́ ka sí ìṣẹ ̀ lẹ ̀ -àtẹ ̀ yìnwá Eight-Nation Alliance , ẹgbẹ ́ ìṣọ ̀ kan tí a dá ní ìdáhùnsí Tẹ ̀ mbẹ ̀ lẹ ̀ kun Akànṣẹ ́ ní China láàárín-in ọdún 1899 àti 1901 nígbàtí àwọn àgbẹ ̀ rokoroko fi ẹ ̀ hónú hàn sí ìjọba amúnisìn , ètò ìṣèlú ní ìlànà Krìstẹ ́ nì àti àṣà .\n",
            "Ní ètò ìtàkùrọ ̀ sọ wọn , wọ ́ n gbé orí yìn fún ìpolongo Ohùn Àgbáyé tí ó ṣe iṣẹ ́ ribiribi tí ó mú àwọn wà láyé .\n",
            "Ilé-iṣẹ ́ ti sọ ayẹyẹ àjọyọ ̀ àjọ ̀ dún Òyìnbó di èèwọ ̀ .\n",
            "Síbẹ ̀ , akọbúlọ ́ ọ ̀ gù Zone9 ṣe àtúnlò ìfẹ ́ -ìlú-ẹni nínú ọ ̀ rọ ̀ àti ìṣe .\n",
            "Ònlo Weibo kan fi ẹ ̀ hónú hàn :\n",
            "Bí àwọn ènìyàn ìlú kan bá mú àjọyọ ̀ àjọ ̀ dún ìlú mìíràn ní òkúnkúndùn ju bí ó ṣe yẹ , èyí fi hàn wípé orílẹ ̀ -èdè náà ń jẹ ìyà ìgbógunti àṣà .\n",
            "Obìrin kò pọ ̀ nínú iṣẹ ́ ọkọ ̀ òfuurufú , bẹ ́ ẹ ̀ ni ó sì ṣe rí káríayé .\n",
            "==> dev.en <==\n",
            "In 2017 , the Communist Party of China 's central committee and state council issued an official document entitled “ Suggestions on the implementation of projects to promote and develop traditional Chinese culture excellence ” .\n",
            "It is a historic day : that is how many Mozambicans regard December 14 , 2018 when , for the first time in the country 's civil aviation history , an airplane was operated solely by women .\n",
            "To implement this policy , Chinese authorities have launched a series of ideological campaigns to crack down on non-Chinese celebrations .\n",
            "Don ’ t suffer in silence — keep talking\n",
            "Should public officials expect to develop a thick skin ?\n",
            "In their remarks at FIFA , the bloggers said that their membership in the Global Voices community was key to visibility during their time in prison .\n",
            "Photo shared widely on social media .\n",
            "From left : Endalk , Soleyana , Natnael , Abel , Befeqadu , Mahlet , Zelalem , Atnaf , Jomanex .\n",
            "Are all these measures to enhance and promote Chinese culture or a sign of losing confidence on one ’ s own culture ?\n",
            "Students at Haromaya University in Ethiopia displaying a quasi-official anti-government gesture .\n",
            "\n",
            "==> dev.yo <==\n",
            "Ní ọdún 2017 , ìgbìmọ ̀ àgbà àti àjọ ìpínlẹ ̀ lábẹ ́ ẹgbẹ ́ olóṣèlú Communist ìlú China kọ ìwé àṣẹ kan tí a pe àkọlée rẹ ̀ ní \" Ìmọ ̀ ràn lórí imúdiṣíṣẹ iṣẹ ́ ìgbélárugẹ àti ìdàgbà àṣà ìbílẹ ̀ China dé ibi gíga \" .\n",
            "Ọjọ ́ ìtàn ni ọjọ ́ yìí : ojú yìí ni ogunlọ ́ gọ ̀ ọmọ-ìlú Mozambique fi wo ìṣẹ ̀ lẹ ̀ ọjọ ́ 14 , oṣù Ọ ̀ pẹ ọdún 2018 nígbà tí , fún ìgbà àkókọ ́ nínú ìtàn ìgbésí ayé ètò ọkọ ̀ òfuurufú ìlú náà , tí obìnrin jẹ ́ atukọ ̀ .\n",
            "Kí òfin yìí lè di àmúṣẹ , ìjọba China ti ṣe ìfilọ ́ lẹ ̀ àwọn ètò ìpolongo kéékèèké mélòó kan fún ìkọ ̀ yìn sí àwọn ayẹyẹ tí kì í ṣe ti ìbílẹ ̀ China .\n",
            "Máà jìyà nínú ìdákẹ ́ rọrọ — máa wí lọ\n",
            "Ǹjẹ ́ ó yẹ kí òṣìṣẹ ́ ìjọba ó ṣe ìmúdàgbà àwọ ̀ -ara tí ó ní ipọn ?\n",
            "Nínú ọ ̀ rọ ̀ wọn ní FIFA , àwọn akọbúlọ ́ ọ ̀ gù náà sọ wípé ìkẹ ́ gbẹ ́ ẹ wọn nínú Ohùn Àgbáyé ṣe gudugudu méje yàyà mẹ ́ fà ní àsìkò tí àwọn ń fi aṣọ pénpé ro oko ọba .\n",
            "Àwòrán tí a pín lórí ẹ ̀ rọ-alátagbà .\n",
            "Láti ọwọ ́ ọ ̀ tún : Endalk , Soleyana , Natnael , Abel , Befeqadu , Mahlet , Zelalem , Atnaf , Jomanex .\n",
            "Ǹjẹ ́ fún ìdàgbàsókè àṣà ilẹ ̀ China ni gbogbo ọ ̀ nà yìí tàbí àmì ìpàdánù ìgbẹ ́ kẹ ̀ lé àṣà ìbílẹ ̀ ẹni ?\n",
            "Akẹ ́ kọ ̀ ọ ́ Ifásitì Haromaya ní Ethiopia ń fi àmì ìtako ìjọba hàn .\n"
          ]
        }
      ]
    },
    {
      "cell_type": "code",
      "source": [
        ""
      ],
      "metadata": {
        "id": "XfFQUlPfwsbw"
      },
      "execution_count": null,
      "outputs": []
    },
    {
      "cell_type": "code",
      "source": [
        ""
      ],
      "metadata": {
        "id": "_v-kd-W-qdHD"
      },
      "execution_count": null,
      "outputs": []
    },
    {
      "cell_type": "code",
      "source": [
        ""
      ],
      "metadata": {
        "id": "iOPuSr2WqdEJ"
      },
      "execution_count": null,
      "outputs": []
    },
    {
      "cell_type": "code",
      "source": [
        ""
      ],
      "metadata": {
        "id": "yDrpEYAgqdBQ"
      },
      "execution_count": null,
      "outputs": []
    },
    {
      "cell_type": "code",
      "source": [
        ""
      ],
      "metadata": {
        "id": "BoXkHeGbqc9S"
      },
      "execution_count": null,
      "outputs": []
    }
  ]
}